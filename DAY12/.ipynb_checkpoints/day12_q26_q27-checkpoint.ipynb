{
 "cells": [
  {
   "cell_type": "code",
   "execution_count": 1,
   "id": "b80922db-40bb-4c6a-8f13-3fc4d672fcd4",
   "metadata": {},
   "outputs": [],
   "source": [
    "# Question-26\n",
    "# # HandsOn - Predict The Data Scientists Salary In India from kaggle use sklearn\n",
    "# dataset: Predict-The-Data-Scientists-Salary-In-India_Train_Dataset.csv\n",
    "# Data Features:\n",
    "#     Name of the company (Encoded)\n",
    "#     Years of experience(split to min and max experience)\n",
    "#     Job description\n",
    "#     Job designation\n",
    "#     Job Type\n",
    "#     Key skills\n",
    "#     Location (needs LabelEncoded)\n",
    "#     Salary in Rupees Lakhs(To be predicted)(needs LabelEncoded)\n",
    "    \n",
    "# Find the best estimator among below \n",
    "# clf1 = DecisionTreeClassifier()\n",
    "# clf2 = RandomForestClassifier(n_estimators=100)\n",
    "# clf3 = ExtraTreesClassifier(n_estimators=100)\n",
    "# clf4 =  AdaBoostClassifier(n_estimators=100)\n",
    "# clf5 =  GradientBoostingClassifier(n_estimators=100)"
   ]
  },
  {
   "cell_type": "code",
   "execution_count": 3,
   "id": "5e233774-a6f8-487d-8bff-ddc6af82777e",
   "metadata": {},
   "outputs": [
    {
     "name": "stdout",
     "output_type": "stream",
     "text": [
      "Decision Tree Accuracy: 0.3353\n",
      "Random Forest Accuracy: 0.3640\n",
      "Extra Trees Accuracy: 0.3555\n",
      "AdaBoost Accuracy: 0.3880\n",
      "Gradient Boosting Accuracy: 0.4565\n"
     ]
    }
   ],
   "source": [
    "import pandas as pd\n",
    "from sklearn.model_selection import train_test_split\n",
    "from sklearn.preprocessing import LabelEncoder\n",
    "from sklearn.tree import DecisionTreeClassifier\n",
    "from sklearn.ensemble import RandomForestClassifier, ExtraTreesClassifier, AdaBoostClassifier, GradientBoostingClassifier\n",
    "from sklearn.metrics import accuracy_score\n",
    "\n",
    "data = pd.read_csv(\"Predict-The-Data-Scientists-Salary-In-India_Train_Dataset.csv\")\n",
    "# print(data.columns)\n",
    "\n",
    "data['MinExp'] = [float(x.split('-')[0].strip('yrs')) for x in data['experience']]\n",
    "data['MaxExp'] = [float(x.split('-')[1].strip('yrs')) for x in data['experience']]\n",
    "\n",
    "data = data.drop(['job_description', 'key_skills', 'experience', 'Unnamed: 0'], axis=1)\n",
    "\n",
    "le = LabelEncoder()\n",
    "for col in ['location', 'salary', 'job_type', 'job_desig', 'company_name_encoded']:\n",
    "    data[col] = le.fit_transform(data[col])\n",
    "\n",
    "X = data.drop(['salary'], axis=1)\n",
    "y = data['salary']\n",
    "X_train, X_test, y_train, y_test = train_test_split(X, y, test_size=0.2)\n",
    "\n",
    "models = [\n",
    "    (\"Decision Tree\", DecisionTreeClassifier()),\n",
    "    (\"Random Forest\", RandomForestClassifier(n_estimators=100)),\n",
    "    (\"Extra Trees\", ExtraTreesClassifier(n_estimators=100)),\n",
    "    (\"AdaBoost\", AdaBoostClassifier(n_estimators=100)),\n",
    "    (\"Gradient Boosting\", GradientBoostingClassifier(n_estimators=100))\n",
    "]\n",
    "\n",
    "for name, model in models:\n",
    "    model.fit(X_train, y_train)\n",
    "    y_pred = model.predict(X_test)\n",
    "    print(f\"{name} Accuracy: {accuracy_score(y_test, y_pred):.4f}\")"
   ]
  },
  {
   "cell_type": "code",
   "execution_count": 4,
   "id": "0c06a0cd-3961-46c3-831f-7b04976886a7",
   "metadata": {},
   "outputs": [],
   "source": [
    "# Question-27\n",
    "# # HandsOn - Titanic survival prediction , from Kaggle\n",
    "# https://www.kaggle.com/c/titanic/data\n",
    "           \n",
    "# Understand data, download only train.csv and test.csv \n",
    "\n",
    "# Using Tpot, find the test score of best Estimator \n",
    "# Hint:\n",
    "# The first and most important step in using TPOT on any data set \n",
    "# is to rename the target class/response variable to 'class'.\n",
    "\n",
    "# At present, TPOT requires all the data to be in numerical format. \n",
    "# Categorical:  Name, Sex, Ticket, Cabin and Embarked.\n",
    "# So convert categorical to number(which preprocessing?) and/or \n",
    "# discard high levels of categorical completely "
   ]
  },
  {
   "cell_type": "code",
   "execution_count": 10,
   "id": "c85840c3-fe5c-4bc2-8062-91257429789a",
   "metadata": {},
   "outputs": [
    {
     "name": "stdout",
     "output_type": "stream",
     "text": [
      "is_classifier\n",
      "is_regressor\n",
      "is_classifier\n",
      "is_regressor\n",
      "is_classifier\n",
      "is_regressor\n",
      "is_classifier\n",
      "is_classifier\n"
     ]
    },
    {
     "name": "stderr",
     "output_type": "stream",
     "text": [
      "C:\\Users\\Sandeep\\Desktop\\handson\\myenv\\Lib\\site-packages\\sklearn\\base.py:1230: FutureWarning: passing a class to None is deprecated and will be removed in 1.8. Use an instance of the class instead.\n",
      "  warnings.warn(\n",
      "C:\\Users\\Sandeep\\Desktop\\handson\\myenv\\Lib\\site-packages\\sklearn\\base.py:1270: FutureWarning: passing a class to None is deprecated and will be removed in 1.8. Use an instance of the class instead.\n",
      "  warnings.warn(\n"
     ]
    },
    {
     "name": "stdout",
     "output_type": "stream",
     "text": [
      "is_classifier\n",
      "is_classifier\n",
      "is_regressor\n",
      "is_classifier\n",
      "is_regressor\n",
      "is_classifier\n",
      "is_regressor\n",
      "is_classifier\n",
      "is_regressor\n",
      "is_classifier\n",
      "is_regressor\n",
      "is_classifier\n",
      "is_regressor\n",
      "is_classifier\n",
      "is_regressor\n",
      "is_classifier\n",
      "is_classifier\n",
      "is_classifier\n",
      "is_classifier\n",
      "is_classifier\n",
      "is_classifier\n",
      "is_classifier\n",
      "is_classifier\n",
      "is_regressor\n",
      "is_classifier\n",
      "is_regressor\n",
      "is_classifier\n",
      "is_regressor\n",
      "is_classifier\n",
      "is_regressor\n",
      "is_classifier\n",
      "is_regressor\n",
      "is_classifier\n",
      "is_regressor\n",
      "is_classifier\n",
      "is_regressor\n",
      "is_classifier\n",
      "is_classifier\n",
      "is_classifier\n",
      "is_regressor\n",
      "is_classifier\n",
      "is_regressor\n",
      "is_classifier\n"
     ]
    },
    {
     "name": "stderr",
     "output_type": "stream",
     "text": [
      "Version 0.12.2 of tpot is outdated. Version 1.0.0 was released Wednesday February 26, 2025.\n"
     ]
    },
    {
     "data": {
      "application/vnd.jupyter.widget-view+json": {
       "model_id": "6452c352c0744ca7892f3281b5af698f",
       "version_major": 2,
       "version_minor": 0
      },
      "text/plain": [
       "Optimization Progress:   0%|          | 0/120 [00:00<?, ?pipeline/s]"
      ]
     },
     "metadata": {},
     "output_type": "display_data"
    },
    {
     "name": "stderr",
     "output_type": "stream",
     "text": [
      "  File \"C:\\Users\\Sandeep\\Desktop\\handson\\myenv\\Lib\\site-packages\\joblib\\externals\\loky\\backend\\context.py\", line 257, in _count_physical_cores\n",
      "    cpu_info = subprocess.run(\n",
      "               ^^^^^^^^^^^^^^^\n",
      "  File \"C:\\Users\\Sandeep\\AppData\\Local\\Programs\\Python\\Python312\\Lib\\subprocess.py\", line 548, in run\n",
      "    with Popen(*popenargs, **kwargs) as process:\n",
      "         ^^^^^^^^^^^^^^^^^^^^^^^^^^^\n",
      "  File \"C:\\Users\\Sandeep\\AppData\\Local\\Programs\\Python\\Python312\\Lib\\subprocess.py\", line 1026, in __init__\n",
      "    self._execute_child(args, executable, preexec_fn, close_fds,\n",
      "  File \"C:\\Users\\Sandeep\\AppData\\Local\\Programs\\Python\\Python312\\Lib\\subprocess.py\", line 1538, in _execute_child\n",
      "    hp, ht, pid, tid = _winapi.CreateProcess(executable, args,\n",
      "                       ^^^^^^^^^^^^^^^^^^^^^^^^^^^^^^^^^^^^^^^\n"
     ]
    },
    {
     "name": "stdout",
     "output_type": "stream",
     "text": [
      "\n",
      "Generation 1 - Current best internal CV score: 0.831680371602536\n",
      "\n",
      "Generation 2 - Current best internal CV score: 0.831680371602536\n",
      "\n",
      "Generation 3 - Current best internal CV score: 0.831680371602536\n",
      "\n",
      "Generation 4 - Current best internal CV score: 0.831680371602536\n",
      "\n",
      "Generation 5 - Current best internal CV score: 0.8327914129684263\n",
      "\n",
      "Best pipeline: XGBClassifier(input_matrix, learning_rate=0.5, max_depth=5, min_child_weight=9, n_estimators=100, n_jobs=1, subsample=0.9000000000000001, verbosity=0)\n"
     ]
    }
   ],
   "source": [
    "import pandas as pd\n",
    "from tpot import TPOTClassifier\n",
    "\n",
    "train = pd.read_csv(\"titanic_train.csv\")\n",
    "test = pd.read_csv(\"titanic_test.csv\")\n",
    "# print(\"train columsn\",train.columns)\n",
    "# print(\"test columns\",test.columns)\n",
    "\n",
    "train.rename(columns={'survived': 'class'}, inplace=True)\n",
    "cols_to_drop = ['name', 'ticket', 'cabin']\n",
    "train = train.drop(columns=[col for col in cols_to_drop if col in train.columns])\n",
    "test = test.drop(columns=[col for col in cols_to_drop if col in test.columns])\n",
    "\n",
    "train['sex'] = train['sex'].map({'male': 0, 'female': 1})\n",
    "test['sex'] = test['sex'].map({'male': 0, 'female': 1})\n",
    "\n",
    "train['embarked'] = train['embarked'].map({'S': 0, 'C': 1, 'Q': 2})\n",
    "test['embarked'] = test['embarked'].map({'S': 0, 'C': 1, 'Q': 2})\n",
    "\n",
    "train = train.fillna(0)\n",
    "test = test.fillna(0)\n",
    "\n",
    "X_train = train.drop('class', axis=1)\n",
    "y_train = train['class']\n",
    "\n",
    "model = TPOTClassifier(generations=5, population_size=20, verbosity=2)\n",
    "model.fit(X_train, y_train)\n",
    "model.export(\"best_titanic_model.py\")\n",
    "\n",
    "predictions = model.predict(test)\n",
    "submission = pd.DataFrame({ 'PassengerId': range(1, len(test) + 1),'Survived': predictions})\n",
    "submission.to_csv(\"tpot_submission.csv\", index=False)"
   ]
  },
  {
   "cell_type": "code",
   "execution_count": 11,
   "id": "09ad080d-e2c1-4c55-905c-eff8f3b1741a",
   "metadata": {},
   "outputs": [
    {
     "name": "stdout",
     "output_type": "stream",
     "text": [
      "Requirement already satisfied: tpot in c:\\users\\sandeep\\desktop\\handson\\myenv\\lib\\site-packages (0.12.2)\n",
      "Requirement already satisfied: numpy>=1.16.3 in c:\\users\\sandeep\\desktop\\handson\\myenv\\lib\\site-packages (from tpot) (2.1.3)\n",
      "Requirement already satisfied: scipy>=1.3.1 in c:\\users\\sandeep\\desktop\\handson\\myenv\\lib\\site-packages (from tpot) (1.15.2)\n",
      "Requirement already satisfied: scikit-learn>=1.4.1 in c:\\users\\sandeep\\desktop\\handson\\myenv\\lib\\site-packages (from tpot) (1.6.1)\n",
      "Requirement already satisfied: deap>=1.2 in c:\\users\\sandeep\\desktop\\handson\\myenv\\lib\\site-packages (from tpot) (1.4.2)\n",
      "Requirement already satisfied: update-checker>=0.16 in c:\\users\\sandeep\\desktop\\handson\\myenv\\lib\\site-packages (from tpot) (0.18.0)\n",
      "Requirement already satisfied: tqdm>=4.36.1 in c:\\users\\sandeep\\desktop\\handson\\myenv\\lib\\site-packages (from tpot) (4.67.1)\n",
      "Requirement already satisfied: stopit>=1.1.1 in c:\\users\\sandeep\\desktop\\handson\\myenv\\lib\\site-packages (from tpot) (1.1.2)\n",
      "Requirement already satisfied: pandas>=0.24.2 in c:\\users\\sandeep\\desktop\\handson\\myenv\\lib\\site-packages (from tpot) (2.2.3)\n",
      "Requirement already satisfied: joblib>=0.13.2 in c:\\users\\sandeep\\desktop\\handson\\myenv\\lib\\site-packages (from tpot) (1.4.2)\n",
      "Requirement already satisfied: xgboost>=1.1.0 in c:\\users\\sandeep\\desktop\\handson\\myenv\\lib\\site-packages (from tpot) (3.0.0)\n",
      "Requirement already satisfied: python-dateutil>=2.8.2 in c:\\users\\sandeep\\desktop\\handson\\myenv\\lib\\site-packages (from pandas>=0.24.2->tpot) (2.9.0.post0)\n",
      "Requirement already satisfied: pytz>=2020.1 in c:\\users\\sandeep\\desktop\\handson\\myenv\\lib\\site-packages (from pandas>=0.24.2->tpot) (2025.2)\n",
      "Requirement already satisfied: tzdata>=2022.7 in c:\\users\\sandeep\\desktop\\handson\\myenv\\lib\\site-packages (from pandas>=0.24.2->tpot) (2025.2)\n",
      "Requirement already satisfied: six>=1.5 in c:\\users\\sandeep\\desktop\\handson\\myenv\\lib\\site-packages (from python-dateutil>=2.8.2->pandas>=0.24.2->tpot) (1.17.0)\n",
      "Requirement already satisfied: threadpoolctl>=3.1.0 in c:\\users\\sandeep\\desktop\\handson\\myenv\\lib\\site-packages (from scikit-learn>=1.4.1->tpot) (3.6.0)\n",
      "Requirement already satisfied: colorama in c:\\users\\sandeep\\desktop\\handson\\myenv\\lib\\site-packages (from tqdm>=4.36.1->tpot) (0.4.6)\n",
      "Requirement already satisfied: requests>=2.3.0 in c:\\users\\sandeep\\desktop\\handson\\myenv\\lib\\site-packages (from update-checker>=0.16->tpot) (2.32.3)\n",
      "Requirement already satisfied: charset-normalizer<4,>=2 in c:\\users\\sandeep\\desktop\\handson\\myenv\\lib\\site-packages (from requests>=2.3.0->update-checker>=0.16->tpot) (3.4.1)\n",
      "Requirement already satisfied: idna<4,>=2.5 in c:\\users\\sandeep\\desktop\\handson\\myenv\\lib\\site-packages (from requests>=2.3.0->update-checker>=0.16->tpot) (3.10)\n",
      "Requirement already satisfied: urllib3<3,>=1.21.1 in c:\\users\\sandeep\\desktop\\handson\\myenv\\lib\\site-packages (from requests>=2.3.0->update-checker>=0.16->tpot) (2.3.0)\n",
      "Requirement already satisfied: certifi>=2017.4.17 in c:\\users\\sandeep\\desktop\\handson\\myenv\\lib\\site-packages (from requests>=2.3.0->update-checker>=0.16->tpot) (2025.1.31)\n"
     ]
    },
    {
     "name": "stderr",
     "output_type": "stream",
     "text": [
      "\n",
      "[notice] A new release of pip is available: 25.1 -> 25.1.1\n",
      "[notice] To update, run: python.exe -m pip install --upgrade pip\n"
     ]
    }
   ],
   "source": [
    "!pip install --upgrade tpot"
   ]
  },
  {
   "cell_type": "code",
   "execution_count": 12,
   "id": "d5f9e28b-d481-498f-800a-82e9456a4dbc",
   "metadata": {},
   "outputs": [],
   "source": [
    "# Keras:\n",
    "# data/pima-indians-diabetes.csv, Binary classification "
   ]
  },
  {
   "cell_type": "code",
   "execution_count": 14,
   "id": "413dd80c-113a-42ff-a660-197d9676816c",
   "metadata": {},
   "outputs": [
    {
     "name": "stdout",
     "output_type": "stream",
     "text": [
      "\u001b[1m5/5\u001b[0m \u001b[32m━━━━━━━━━━━━━━━━━━━━\u001b[0m\u001b[37m\u001b[0m \u001b[1m0s\u001b[0m 14ms/step - accuracy: 0.6947 - loss: 0.5672 \n",
      "70.78\n"
     ]
    }
   ],
   "source": [
    "import pandas as pd\n",
    "from sklearn.model_selection import train_test_split\n",
    "from sklearn.preprocessing import StandardScaler\n",
    "from keras.models import Sequential\n",
    "from keras.layers import Dense, Input\n",
    "\n",
    "data = pd.read_csv(\"pima-indians-diabetes.csv\", header=None)\n",
    "data.columns = ['pregnancies', 'glucose', 'blood_pressure', 'skin_thickness', 'insulin',\n",
    "                'bmi', 'diabetes_pedigree', 'age', 'outcome']\n",
    "\n",
    "X = data.drop('outcome', axis=1)\n",
    "y = data['outcome']\n",
    "\n",
    "X_train, X_test, y_train, y_test = train_test_split(X, y, test_size=0.2)\n",
    "scaler = StandardScaler()\n",
    "X_train = scaler.fit_transform(X_train)\n",
    "X_test = scaler.transform(X_test)\n",
    "\n",
    "model = Sequential()\n",
    "model.add(Input(shape=(8,)))\n",
    "model.add(Dense(10, activation='relu'))\n",
    "model.add(Dense(1, activation='sigmoid'))\n",
    "\n",
    "model.compile(optimizer='adam', loss='binary_crossentropy', metrics=['accuracy'])\n",
    "model.fit(X_train, y_train, epochs=50, verbose=0)S\n",
    "\n",
    "loss, accuracy = model.evaluate(X_test, y_test)\n",
    "print(round(accuracy * 100, 2))"
   ]
  },
  {
   "cell_type": "code",
   "execution_count": null,
   "id": "ef7b9a84-7a9a-48bb-ac77-7757752b021f",
   "metadata": {},
   "outputs": [],
   "source": []
  }
 ],
 "metadata": {
  "kernelspec": {
   "display_name": "Python 3 (ipykernel)",
   "language": "python",
   "name": "python3"
  },
  "language_info": {
   "codemirror_mode": {
    "name": "ipython",
    "version": 3
   },
   "file_extension": ".py",
   "mimetype": "text/x-python",
   "name": "python",
   "nbconvert_exporter": "python",
   "pygments_lexer": "ipython3",
   "version": "3.12.8"
  }
 },
 "nbformat": 4,
 "nbformat_minor": 5
}
